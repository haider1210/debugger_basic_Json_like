{
 "cells": [
  {
   "cell_type": "markdown",
   "id": "c2f09192-a68b-4f6c-a398-82eefb9a64b5",
   "metadata": {},
   "source": [
    "### Debugger basic json like structure"
   ]
  },
  {
   "cell_type": "code",
   "execution_count": 3,
   "id": "f14660ac-fe5d-4399-9be2-7158eabec429",
   "metadata": {},
   "outputs": [
    {
     "name": "stdout",
     "output_type": "stream",
     "text": [
      "VTL is looking  find.\n"
     ]
    }
   ],
   "source": [
    "import json\n",
    " \n",
    "template_content = \"\"\"{\n",
    "  \"group\": {\n",
    "    \"privatesslreissue-2\": \"internalsProvider.httpcall\"\n",
    "  },\n",
    "  \"commands\": {\n",
    "    \"group.privatesslreissue-2.method\": \"POST\",\n",
    "    \"group.privatesslreissue-2.url\": \"http:/jio-hcmp-core-ssl-cert-management-cloudxpca.jio-hcmp-ms:8600/cms/cloudxpcaorder/sslreissuecertificate\",\n",
    "    \"group.privatesslreissue-2.params\": \"\",\n",
    "    \"group.privatesslreissue-2.header.Content-Type\": \"application/json\",\n",
    "    \"group.privatesslreissue-2.body.orderId\": \"$!{path.targetOrderid}\",\n",
    "    \"group.privatesslreissue-2.body.provisioningOrderId\": \"$!{path2.order_number}\",\n",
    "    \"group.privatesslreissue-2.body.storeCsrFlag\": false\n",
    "  },\n",
    "  \"response\": {\n",
    "    \"out\": {\n",
    "      \"quantity\": 1,\n",
    "      \"details\": [\n",
    "        {}\n",
    "      ]\n",
    "    }\n",
    "  }\n",
    "}\n",
    "\"\"\"\n",
    " \n",
    "try:\n",
    "    json.loads(template_content)\n",
    "    print(\"VTL is looking  find.\")\n",
    "except json.JSONDecodeError as e:\n",
    "    print(f\"JSON decoding error: {e}\")"
   ]
  },
  {
   "cell_type": "code",
   "execution_count": null,
   "id": "32e66926-fbe1-4e40-a255-5494ad2160ae",
   "metadata": {},
   "outputs": [],
   "source": []
  }
 ],
 "metadata": {
  "kernelspec": {
   "display_name": "hcmp-haider6",
   "language": "python",
   "name": "hcmp-haider6"
  },
  "language_info": {
   "codemirror_mode": {
    "name": "ipython",
    "version": 3
   },
   "file_extension": ".py",
   "mimetype": "text/x-python",
   "name": "python",
   "nbconvert_exporter": "python",
   "pygments_lexer": "ipython3",
   "version": "3.11.5"
  }
 },
 "nbformat": 4,
 "nbformat_minor": 5
}
